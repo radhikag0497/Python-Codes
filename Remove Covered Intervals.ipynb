# intervals = [[1,3],[1,7],[4,8],[2,5]]
# intervals = [[1,4],[3,6],[2,8]]
# intervals = [[3,10],[4,10],[5,11]]
intervals =[[34335,39239],[15875,91969],[29673,66453],[53548,69161],[40618,93111]]
lenofint = len(intervals)
i=0
while (i<lenofint-1):
  a = intervals[i]
  j=i+1
  while j < lenofint:
    b = intervals[j]
    print('a:{}, b:{}'.format(a,b))
    if (a[0]<=b[0] and a[1]>=b[1]):
      # remove b from interval
      intervals.remove(b)
      j-=1
      lenofint-=1
      print('List after removal:',intervals)
    elif (a[0]>=b[0] and a[1]<=b[1]):
      print('else')
      # remove a from interval
      intervals.remove(a)
      i-=1
      a = intervals[i]
      lenofint-=1
      print('List after removal:',intervals)
      break
    j+=1
    print('j increased:',j)
  i+=1
  print('i increased:',i)

print("Final Interval List:",intervals)
print("Length of Interval:",len(intervals))
