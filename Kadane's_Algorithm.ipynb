{
  "nbformat": 4,
  "nbformat_minor": 0,
  "metadata": {
    "colab": {
      "name": "Kadane's Algorithm.ipynb",
      "provenance": [],
      "collapsed_sections": []
    },
    "kernelspec": {
      "name": "python3",
      "display_name": "Python 3"
    },
    "language_info": {
      "name": "python"
    }
  },
  "cells": [
    {
      "cell_type": "markdown",
      "source": [
        "https://practice.geeksforgeeks.org/problems/kadanes-algorithm-1587115620/1"
      ],
      "metadata": {
        "id": "MUD_ZvrkJtc6"
      }
    },
    {
      "cell_type": "markdown",
      "source": [
        "Given an array Arr[] of N integers. Find the contiguous sub-array(containing at least one number) which has the maximum sum and return its sum.\n",
        "\n",
        "Example 1:\n",
        "\n",
        "Input:\n",
        "N = 5,\n",
        "Arr[] = {1,2,3,-2,5}\n",
        "\n",
        "Output:\n",
        "9\n",
        "\n",
        "Explanation:\n",
        "Max subarray sum is 9\n",
        "of elements (1, 2, 3, -2, 5) which \n",
        "is a contiguous subarray."
      ],
      "metadata": {
        "id": "R6xk-AaI7k3j"
      }
    },
    {
      "cell_type": "code",
      "execution_count": null,
      "metadata": {
        "id": "NXMAeBAg7jbE",
        "colab": {
          "base_uri": "https://localhost:8080/"
        },
        "outputId": "ff1c97e8-2e9e-4096-9637-abfb06d5f3b7"
      },
      "outputs": [
        {
          "output_type": "stream",
          "name": "stdout",
          "text": [
            "-9223372036854775808\n"
          ]
        }
      ],
      "source": [
        "import sys\n",
        "MIN_INT = -sys.maxsize - 1\n",
        "print(MIN_INT)"
      ]
    },
    {
      "cell_type": "code",
      "source": [
        "N = 5\n",
        "# arr = [1,2,3,-2,5]\n",
        "# arr = [-1,-2,-3,-4]\n",
        "arr = [-2, -3, 4, -1, -2, 1, 5, -3]\n",
        "print(\"Array: \",arr)"
      ],
      "metadata": {
        "colab": {
          "base_uri": "https://localhost:8080/"
        },
        "id": "FgJWkuL9MGMU",
        "outputId": "f4b9ad30-81ed-42f0-8e7e-4c1af73a2ec4"
      },
      "execution_count": null,
      "outputs": [
        {
          "output_type": "stream",
          "name": "stdout",
          "text": [
            "Array:  [-2, -3, 4, -1, -2, 1, 5, -3]\n"
          ]
        }
      ]
    },
    {
      "cell_type": "code",
      "source": [
        "mtn = MIN_INT ## max till now\n",
        "meh = 0 ## Max end here\n",
        "# index\n",
        "# begin = 0\n",
        "# currEnd = 0\n",
        "for i in arr:\n",
        "  meh = meh + i\n",
        "  if meh > mtn:\n",
        "    mtn = meh\n",
        "  if meh < 0:\n",
        "    meh = 0\n",
        "print(\"Max subarray sum: \",mtn)"
      ],
      "metadata": {
        "id": "W58bCtGp8Fns",
        "colab": {
          "base_uri": "https://localhost:8080/"
        },
        "outputId": "dbc438dc-36d8-40c1-f452-55698a455ce6"
      },
      "execution_count": null,
      "outputs": [
        {
          "output_type": "stream",
          "name": "stdout",
          "text": [
            "Max subarray sum:  7\n"
          ]
        }
      ]
    }
  ]
}