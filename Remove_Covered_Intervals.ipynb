{
  "nbformat": 4,
  "nbformat_minor": 0,
  "metadata": {
    "colab": {
      "name": "Remove Covered Intervals.ipynb",
      "provenance": []
    },
    "kernelspec": {
      "name": "python3",
      "display_name": "Python 3"
    },
    "language_info": {
      "name": "python"
    }
  },
  "cells": [
    {
      "cell_type": "markdown",
      "source": [
        "Given an array intervals where intervals[i] = [li, ri] represent the interval [li, ri), remove all intervals that are covered by another interval in the list.\n",
        "\n",
        "The interval [a, b) is covered by the interval [c, d) if and only if c <= a and b <= d.\n",
        "\n",
        "Return the number of remaining intervals.\n",
        "\n",
        "**Constraints:**\n",
        "\n",
        "    1 <= intervals.length <= 1000 ,\n",
        "\n",
        "    intervals[i].length == 2 ,\n",
        "\n",
        "    0 <= li <= ri <= 105 ,\n",
        "\n",
        "    All the given intervals are unique."
      ],
      "metadata": {
        "id": "KoVI8D6h9Vhm"
      }
    },
    {
      "cell_type": "markdown",
      "source": [
        "**Example 1:**\n",
        "\n",
        "Input: intervals = [[1,4],[3,6],[2,8]]\n",
        "Output: 2\n",
        "Explanation: Interval [3,6] is covered by [2,8], therefore it is removed.\n",
        "\n",
        "**Example 2:**\n",
        "\n",
        "Input: intervals = [[1,4],[2,3]]\n",
        "Output: 1"
      ],
      "metadata": {
        "id": "dbi_M3mz9dp_"
      }
    },
    {
      "cell_type": "code",
      "source": [
        "# intervals = [[1,3],[1,7],[4,8],[2,5]]\n",
        "# intervals = [[1,4],[3,6],[2,8]]\n",
        "# intervals = [[3,10],[4,10],[5,11]]\n",
        "intervals =[[34335,39239],[15875,91969],[29673,66453],[53548,69161],[40618,93111]]\n",
        "lenofint = len(intervals)\n",
        "i=0\n",
        "while (i<lenofint-1):\n",
        "  a = intervals[i]\n",
        "  j=i+1\n",
        "  while j < lenofint:\n",
        "    b = intervals[j]\n",
        "    print('a:{}, b:{}'.format(a,b))\n",
        "    if (a[0]<=b[0] and a[1]>=b[1]):\n",
        "      # remove b from interval\n",
        "      intervals.remove(b)\n",
        "      j-=1\n",
        "      lenofint-=1\n",
        "      print('List after removal:',intervals)\n",
        "    elif (a[0]>=b[0] and a[1]<=b[1]):\n",
        "      print('else')\n",
        "      # remove a from interval\n",
        "      intervals.remove(a)\n",
        "      i-=1\n",
        "      a = intervals[i]\n",
        "      lenofint-=1\n",
        "      print('List after removal:',intervals)\n",
        "      break\n",
        "    j+=1\n",
        "    print('j increased:',j)\n",
        "  i+=1\n",
        "  print('i increased:',i)\n",
        "\n",
        "print(\"Final Interval List:\",intervals)\n",
        "print(\"Length of Interval:\",len(intervals))"
      ],
      "metadata": {
        "colab": {
          "base_uri": "https://localhost:8080/"
        },
        "id": "E2B1tJuue_V6",
        "outputId": "2b4b0eae-cef5-4d3e-db85-64a6c45e10cf"
      },
      "execution_count": null,
      "outputs": [
        {
          "output_type": "stream",
          "name": "stdout",
          "text": [
            "a:[34335, 39239], b:[15875, 91969]\n",
            "else\n",
            "List after removal: [[15875, 91969], [29673, 66453], [53548, 69161], [40618, 93111]]\n",
            "i increased: 0\n",
            "a:[15875, 91969], b:[29673, 66453]\n",
            "List after removal: [[15875, 91969], [53548, 69161], [40618, 93111]]\n",
            "j increased: 1\n",
            "a:[15875, 91969], b:[53548, 69161]\n",
            "List after removal: [[15875, 91969], [40618, 93111]]\n",
            "j increased: 1\n",
            "a:[15875, 91969], b:[40618, 93111]\n",
            "j increased: 2\n",
            "i increased: 1\n",
            "Final Interval List:  [[15875, 91969], [40618, 93111]]\n",
            "Length of Interval: 2\n"
          ]
        }
      ]
    },
    {
      "cell_type": "code",
      "source": [
        "# intervals = [[1,3],[1,7],[4,8],[2,5]]\n",
        "# intervals = [[1,4],[3,6],[2,8]]\n",
        "# intervals = [[3,10],[4,10],[5,11]]\n",
        "intervals =[[34335,39239],[15875,91969],[29673,66453],[53548,69161],[40618,93111]]\n",
        "lengthOfInterval = len(intervals)\n",
        "i=0\n",
        "while(i<lengthOfInterval):\n",
        "  j = i+1\n",
        "  while (j<lengthOfInterval):\n",
        "    if(intervals[i][0]<=intervals[j][0] and intervals[i][1]>=intervals[j][1]):\n",
        "      intervals.remove(intervals[j])\n",
        "      j -= 1\n",
        "      lengthOfInterval -= 1\n",
        "      print('List after removal:',intervals)\n",
        "    elif(intervals[i][0]>=intervals[j][0] and intervals[i][1]<=intervals[j][1]):\n",
        "      intervals.remove(intervals[i])\n",
        "      i -= 1\n",
        "      lengthOfInterval -= 1\n",
        "      print('List after removal:',intervals)\n",
        "      break\n",
        "    j += 1\n",
        "  i += 1\n",
        "\n",
        "print(intervals)\n",
        "print(\"Length of Interval:\",len(intervals))"
      ],
      "metadata": {
        "colab": {
          "base_uri": "https://localhost:8080/"
        },
        "id": "UDMNQ4GGxJgc",
        "outputId": "b56353d8-3c07-449c-d741-d991c02afe80"
      },
      "execution_count": null,
      "outputs": [
        {
          "output_type": "stream",
          "name": "stdout",
          "text": [
            "List after removal: [[15875, 91969], [29673, 66453], [53548, 69161], [40618, 93111]]\n",
            "List after removal: [[15875, 91969], [53548, 69161], [40618, 93111]]\n",
            "List after removal: [[15875, 91969], [40618, 93111]]\n",
            "[[15875, 91969], [40618, 93111]]\n",
            "Length of Interval: 2\n"
          ]
        }
      ]
    }
  ]
}