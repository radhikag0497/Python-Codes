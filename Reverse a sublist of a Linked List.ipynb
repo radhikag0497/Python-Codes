{
  "nbformat": 4,
  "nbformat_minor": 0,
  "metadata": {
    "colab": {
      "name": "Reverse a sublist of a linked list.ipynb",
      "provenance": [],
      "collapsed_sections": []
    },
    "kernelspec": {
      "name": "python3",
      "display_name": "Python 3"
    },
    "language_info": {
      "name": "python"
    }
  },
  "cells": [
    {
      "cell_type": "markdown",
      "source": [
        "https://practice.geeksforgeeks.org/problems/reverse-a-sublist-of-a-linked-list/1#"
      ],
      "metadata": {
        "id": "8idJOd9xWUfR"
      }
    },
    {
      "cell_type": "markdown",
      "source": [
        "**Reversing Array/List**"
      ],
      "metadata": {
        "id": "S6eFT7YFWXjT"
      }
    },
    {
      "cell_type": "code",
      "execution_count": 22,
      "metadata": {
        "colab": {
          "base_uri": "https://localhost:8080/"
        },
        "id": "xGQm6J67Tgbn",
        "outputId": "7867e04d-7ba0-4741-b17c-658e3fba9977"
      },
      "outputs": [
        {
          "output_type": "stream",
          "name": "stdout",
          "text": [
            "[1, 7, 5, 3, 9, 8, 10, 2, 2, 5]\n"
          ]
        }
      ],
      "source": [
        "N = 10\n",
        "ll = [1,7,5,3,9,8,10,2,2,5]\n",
        "head = ll[0]\n",
        "print(ll)\n",
        "m = 1\n",
        "n = 8"
      ]
    },
    {
      "cell_type": "code",
      "source": [
        "import math\n",
        "r = n-1\n",
        "for i in range(m,math.floor((n+m)/2)):\n",
        "  if i <= r:\n",
        "    temp = ll[i]\n",
        "    ll[i] = ll[r]\n",
        "    ll[r] = temp\n",
        "    r=r-1;\n",
        "\n",
        "print(ll)"
      ],
      "metadata": {
        "id": "vXIsP4USU0fn",
        "colab": {
          "base_uri": "https://localhost:8080/"
        },
        "outputId": "076f1523-0730-4bf3-c690-13443f97736a"
      },
      "execution_count": 23,
      "outputs": [
        {
          "output_type": "stream",
          "name": "stdout",
          "text": [
            "[1, 2, 10, 8, 9, 3, 5, 7, 2, 5]\n"
          ]
        }
      ]
    },
    {
      "cell_type": "markdown",
      "source": [
        "# Implementation using Linked List\n",
        "\n",
        "**Linked List Creation**"
      ],
      "metadata": {
        "id": "OrnklZw9WNO-"
      }
    },
    {
      "cell_type": "code",
      "source": [
        "from IPython.core.display import ProgressBar\n",
        "class Node:\n",
        "  def __init__(self, data):\n",
        "    self.data = data\n",
        "    self.next = None\n",
        "\n",
        "class LinkedList:\n",
        "  def __init__(self):\n",
        "    self.head = None\n",
        "\n",
        "  def listTraversal(self):\n",
        "    p = self.head\n",
        "    print(\"*********List Traversal*********\")\n",
        "    print(\"Head:\", self.head.data)\n",
        "    while(p is not None):\n",
        "      print(p.data)\n",
        "      p = p.next\n",
        "      # if p:\n",
        "      #   print(\"next: \",p.data)\n",
        "\n",
        "  def findNode(self, pos):\n",
        "    p = self.head\n",
        "    count = 1\n",
        "    q = None\n",
        "    print(\"Finding node at pos:\", pos)\n",
        "    while count <= pos and p is not None :\n",
        "      # print(\"current:\", p.data)\n",
        "      q = p\n",
        "      p = p.next\n",
        "      count = count + 1\n",
        "    print(\"returning node found:\")\n",
        "    return q"
      ],
      "metadata": {
        "id": "i6xvayouWS_4"
      },
      "execution_count": 29,
      "outputs": []
    },
    {
      "cell_type": "markdown",
      "source": [
        "Dummy Linked List Creation"
      ],
      "metadata": {
        "id": "gBYo-P1TQYY0"
      }
    },
    {
      "cell_type": "code",
      "source": [
        "if __name__ == '__main__':\n",
        "  ll = LinkedList()\n",
        "  ll.head = Node(1)\n",
        "  second = Node(2)\n",
        "  third = Node(3)\n",
        "  ll.head.next = second\n",
        "  second.next = third\n",
        "  ll.listTraversal()"
      ],
      "metadata": {
        "colab": {
          "base_uri": "https://localhost:8080/"
        },
        "id": "cviiKoASbx9R",
        "outputId": "9dc5d68b-e91c-48b5-ecd4-6a80e5299539"
      },
      "execution_count": 30,
      "outputs": [
        {
          "output_type": "stream",
          "name": "stdout",
          "text": [
            "*********List Traversal*********\n",
            "Head: 1\n",
            "1\n",
            "2\n",
            "3\n"
          ]
        }
      ]
    },
    {
      "cell_type": "markdown",
      "source": [
        "### **Actual Linked List Creation**"
      ],
      "metadata": {
        "id": "NcGO0xY992Fs"
      }
    },
    {
      "cell_type": "code",
      "source": [
        "arr = [1,7,5,3,9,8,10,2,4,5]\n",
        "# arr = [26,58]\n",
        "if __name__ == '__main__':\n",
        "  ll = LinkedList()\n",
        "  ll.head = Node(arr[0])\n",
        "  p = ll.head\n",
        "  for i in range(1, len(arr)):\n",
        "    temp = Node(arr[i])\n",
        "    p.next = temp\n",
        "    p = p.next\n",
        "\n",
        "  ll.listTraversal()\n",
        "  # reqNode = ll.findNode(3)\n",
        "  # if reqNode:\n",
        "  #   print(\"Node at given pos:\",reqNode.data)"
      ],
      "metadata": {
        "colab": {
          "base_uri": "https://localhost:8080/"
        },
        "id": "s3ZM9aJQb6rN",
        "outputId": "42f721c1-cf53-4e6c-ee81-47b31302c238"
      },
      "execution_count": 31,
      "outputs": [
        {
          "output_type": "stream",
          "name": "stdout",
          "text": [
            "*********List Traversal*********\n",
            "Head: 1\n",
            "1\n",
            "7\n",
            "5\n",
            "3\n",
            "9\n",
            "8\n",
            "10\n",
            "2\n",
            "4\n",
            "5\n"
          ]
        }
      ]
    },
    {
      "cell_type": "markdown",
      "source": [
        "## Reversing the Sublist of Linked List"
      ],
      "metadata": {
        "id": "iFoz6VExEGnq"
      }
    },
    {
      "cell_type": "code",
      "source": [
        "m = 1\n",
        "n = 8\n",
        "if m != n:\n",
        "  if m > 1:\n",
        "    former = ll.findNode(m-1)\n",
        "    print(\"Former of first node of sublist:\",former.data)\n",
        "  p = ll.findNode(m)\n",
        "  beg = p\n",
        "  print(\"Beginning Node: \",p.data)\n",
        "  q = p.next\n",
        "  print(\"2nd node:\", q.data)\n",
        "  x = ll.findNode(n)\n",
        "  print(\"Last node of sublist:\",x.data)\n",
        "  while(q is not x):\n",
        "    r = q.next\n",
        "    # print(\"***r***\",r.data)\n",
        "    q.next = p\n",
        "    # print(\"---q->next---\",q.next.data)\n",
        "    p = q\n",
        "    # print(\"p.data:\",p.data)\n",
        "    q = r\n",
        "    # print(\"---q---\",q.data)\n",
        "  r = q.next\n",
        "  q.next = p\n",
        "  beg.next = r\n",
        "  print(\"End node:\", q.data)\n",
        "  if m == 1 :\n",
        "    ll.head = q\n",
        "  elif (m > 1):\n",
        "    former.next = q\n",
        "  print(\"Current head\",ll.head.data)\n",
        "ll.listTraversal()"
      ],
      "metadata": {
        "colab": {
          "base_uri": "https://localhost:8080/"
        },
        "id": "e0PA3mC-EMhA",
        "outputId": "37f39699-acc4-4aec-b1ca-f92f0a7762bb"
      },
      "execution_count": 32,
      "outputs": [
        {
          "output_type": "stream",
          "name": "stdout",
          "text": [
            "Finding node at pos: 1\n",
            "returning node found:\n",
            "Beginning Node:  1\n",
            "2nd node: 7\n",
            "Finding node at pos: 8\n",
            "returning node found:\n",
            "Last node of sublist: 2\n",
            "End node: 2\n",
            "Current head 2\n",
            "*********List Traversal*********\n",
            "Head: 2\n",
            "2\n",
            "10\n",
            "8\n",
            "9\n",
            "3\n",
            "5\n",
            "7\n",
            "1\n",
            "4\n",
            "5\n"
          ]
        }
      ]
    },
    {
      "cell_type": "markdown",
      "source": [
        "## Reversing the Entire Linked List"
      ],
      "metadata": {
        "id": "HX__7JemdHW5"
      }
    },
    {
      "cell_type": "code",
      "source": [
        "p = ll.head\n",
        "print(p.data)\n",
        "q = p.next\n",
        "print(q.data)\n",
        "p.next = None\n",
        "while(q.next is not None):\n",
        "  r = q.next\n",
        "  q.next = p\n",
        "  p = q\n",
        "  q = r\n",
        "q.next = p\n",
        "print(\"End node:\", q.data)\n",
        "ll.head = q\n",
        "print(\"Current head\",ll.head.data)\n",
        "print(\"After Reversing, \")\n",
        "ll.listTraversal()"
      ],
      "metadata": {
        "id": "uDWxppDNdAcw",
        "colab": {
          "base_uri": "https://localhost:8080/"
        },
        "outputId": "d68eb0dd-195d-4e05-a1bd-639b7c6bd68f"
      },
      "execution_count": 33,
      "outputs": [
        {
          "output_type": "stream",
          "name": "stdout",
          "text": [
            "2\n",
            "10\n",
            "End node: 5\n",
            "Current head 5\n",
            "After Reversing, \n",
            "*********List Traversal*********\n",
            "Head: 5\n",
            "5\n",
            "4\n",
            "1\n",
            "7\n",
            "5\n",
            "3\n",
            "9\n",
            "8\n",
            "10\n",
            "2\n"
          ]
        }
      ]
    }
  ]
}