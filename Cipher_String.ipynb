{
  "nbformat": 4,
  "nbformat_minor": 0,
  "metadata": {
    "colab": {
      "name": "Cipher String.ipynb",
      "provenance": [],
      "collapsed_sections": []
    },
    "kernelspec": {
      "name": "python3",
      "display_name": "Python 3"
    },
    "language_info": {
      "name": "python"
    }
  },
  "cells": [
    {
      "cell_type": "markdown",
      "source": [
        "Below code Converts the Given String to cipher, according to given num and appends a token at the end, and places '_' at regular inerval of 3 in every Output String"
      ],
      "metadata": {
        "id": "FJWcD0oYJfqK"
      }
    },
    {
      "cell_type": "code",
      "execution_count": null,
      "metadata": {
        "colab": {
          "base_uri": "https://localhost:8080/"
        },
        "id": "-ydDusvR7IeE",
        "outputId": "bc9515df-833b-46d3-be04-b7c14334b5ca"
      },
      "outputs": [
        {
          "output_type": "stream",
          "name": "stdout",
          "text": [
            "['H', 'e', 'l', 'l', 'o']\n",
            "72\n",
            "101\n",
            "108\n",
            "108\n",
            "111\n",
            "['L', 'i', 'p', 'p', 's']\n",
            "Lipps\n",
            "Lippsdwiax17o16f0\n",
            "p\n",
            "i\n",
            "7\n",
            "f\n",
            "Lip_sdw_ax1_o16_0\n"
          ]
        }
      ],
      "source": [
        "strParam = \"Hello\"\n",
        "num = 4\n",
        "output = list(strParam)\n",
        "\n",
        "print(output)\n",
        "for i in range(len(output)):\n",
        "  print(ord(output[i]))\n",
        "  output[i] = chr(ord(output[i]) + num)\n",
        "print(output)\n",
        "strParam = \"\"\n",
        "for ele in output: \n",
        "  strParam += ele \n",
        "\n",
        "print(strParam)\n",
        "x = \"dwiax17o16f0\"\n",
        "\n",
        "# at the end append token and print with _ At 3 places\n",
        "append = strParam+x\n",
        "print(append)\n",
        "c=3\n",
        "for i in range(0,len(append)):\n",
        "  if i == c:\n",
        "    print(append[i])\n",
        "    append = append[:i]+\"_\"+append[i+1:]\n",
        "    c = c+4\n",
        "print(append)\n"
      ]
    }
  ]
}